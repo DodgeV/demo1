{
 "cells": [
  {
   "cell_type": "code",
   "execution_count": 1,
   "metadata": {},
   "outputs": [],
   "source": [
    "import numpy as np\n",
    "\n",
    "import cv2\n",
    "\n",
    "import dlib\n"
   ]
  },
  {
   "cell_type": "code",
   "execution_count": 3,
   "metadata": {},
   "outputs": [],
   "source": [
    "face_detector = dlib.get_frontal_face_detector()"
   ]
  },
  {
   "cell_type": "code",
   "execution_count": 6,
   "metadata": {},
   "outputs": [],
   "source": [
    "# 人脸68个关键点：嘴巴，鼻子，眼睛，眉毛，轮廓\n",
    "shape = dlib.shape_predictor('./shape_predictor_68_face_landmarks.dat')"
   ]
  },
  {
   "cell_type": "code",
   "execution_count": 9,
   "metadata": {},
   "outputs": [],
   "source": [
    "jin = cv2.imread('./jin.jpg')\n",
    "\n",
    "gray = cv2.cvtColor(jin,code = cv2.COLOR_BGR2GRAY)\n",
    "\n",
    "faces = face_detector(gray,1)\n",
    "\n",
    "for face in faces:\n",
    "    left = face.left()\n",
    "    top = face.top()\n",
    "    right = face.right()\n",
    "    bottom = face.bottom()\n",
    "    cv2.rectangle(jin,pt1 = (left,top),pt2 = (right,bottom),color = [0,0,255],thickness = 2)\n",
    "#     从检测出来的人脸中检测关键点，检测的区域被缩小了，排查区域缩小，准确率就会提升\n",
    "    facemarks = shape(jin,face)\n",
    "    \n",
    "    for mark in facemarks.parts():\n",
    "        x =  mark.x\n",
    "        y = mark.y\n",
    "        cv2.circle(jin,center = (x,y),radius = 2,color = [0,255,0],thickness = 2)\n",
    "        \n",
    "cv2.imshow('face',jin)\n",
    "\n",
    "cv2.waitKey(0)\n",
    "\n",
    "cv2.destroyAllWindows()"
   ]
  },
  {
   "cell_type": "code",
   "execution_count": 13,
   "metadata": {},
   "outputs": [],
   "source": [
    "image = cv2.imread('./feixiang.jpg')\n",
    "\n",
    "gray = cv2.cvtColor(image,code = cv2.COLOR_BGR2GRAY)\n",
    "\n",
    "faces = face_detector(gray,1)\n",
    "\n",
    "for face in faces:\n",
    "    left = face.left()\n",
    "    top = face.top()\n",
    "    right = face.right()\n",
    "    bottom = face.bottom()\n",
    "    cv2.rectangle(image,pt1 = (left,top),pt2 = (right,bottom),color = [0,0,255],thickness = 2)\n",
    "#     从检测出来的人脸中检测关键点，检测的区域被缩小了，排查区域缩小，准确率就会提升\n",
    "    facemarks = shape(image,face)\n",
    "    \n",
    "    for mark in facemarks.parts():\n",
    "        x =  mark.x\n",
    "        y = mark.y\n",
    "        cv2.circle(image,center = (x,y),radius = 1,color = [0,255,0],thickness = 2)\n",
    "        \n",
    "cv2.imshow('face',image)\n",
    "\n",
    "cv2.waitKey(0)\n",
    "\n",
    "cv2.destroyAllWindows()"
   ]
  }
 ],
 "metadata": {
  "kernelspec": {
   "display_name": "Python 3",
   "language": "python",
   "name": "python3"
  },
  "language_info": {
   "codemirror_mode": {
    "name": "ipython",
    "version": 3
   },
   "file_extension": ".py",
   "mimetype": "text/x-python",
   "name": "python",
   "nbconvert_exporter": "python",
   "pygments_lexer": "ipython3",
   "version": "3.6.8"
  }
 },
 "nbformat": 4,
 "nbformat_minor": 2
}

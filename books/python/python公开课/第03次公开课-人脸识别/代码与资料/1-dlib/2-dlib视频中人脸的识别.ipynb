{
 "cells": [
  {
   "cell_type": "code",
   "execution_count": 1,
   "metadata": {},
   "outputs": [],
   "source": [
    "import numpy as np\n",
    "\n",
    "import cv2\n",
    "\n",
    "import dlib"
   ]
  },
  {
   "cell_type": "code",
   "execution_count": 6,
   "metadata": {},
   "outputs": [],
   "source": []
  },
  {
   "cell_type": "code",
   "execution_count": 11,
   "metadata": {},
   "outputs": [],
   "source": [
    "face_detector = dlib.get_frontal_face_detector()\n",
    "cap = cv2.VideoCapture('./titanic.mp4')\n",
    "\n",
    "while True:\n",
    "    flag,frame = cap.read()\n",
    "    \n",
    "#     退出条件，当读到最后一帧，视频结束，程序退出\n",
    "    if flag == False:\n",
    "        break\n",
    "    \n",
    "    gray = cv2.cvtColor(frame,code = cv2.COLOR_BGR2GRAY)\n",
    "    \n",
    "    faces = face_detector(gray,1)\n",
    "    \n",
    "    for face in faces:\n",
    "        l = face.left()\n",
    "        t = face.top()\n",
    "        r = face.right()\n",
    "        b = face.bottom()\n",
    "        cv2.rectangle(frame,pt1 = (l,t),pt2 = (r,b),color = [0,0,255],thickness = 2)\n",
    "        \n",
    "#     用户键盘上输入，可以退出\n",
    "    if ord('q') == cv2.waitKey(1):\n",
    "        break\n",
    "    \n",
    "    cv2.imshow('Titanic',frame)\n",
    "cv2.destroyAllWindows()\n",
    "cap.release()"
   ]
  },
  {
   "cell_type": "code",
   "execution_count": 13,
   "metadata": {},
   "outputs": [],
   "source": [
    "# 调用摄像头，检测摄像头中的人脸\n",
    "face_detector = dlib.get_frontal_face_detector()\n",
    "# 0表示获取摄像头的中数据\n",
    "cap = cv2.VideoCapture(0)\n",
    "\n",
    "while True:\n",
    "    flag,frame = cap.read()\n",
    "    \n",
    "#     退出条件，当读到最后一帧，视频结束，程序退出\n",
    "    if flag == False:\n",
    "        break\n",
    "    \n",
    "    gray = cv2.cvtColor(frame,code = cv2.COLOR_BGR2GRAY)\n",
    "    \n",
    "    faces = face_detector(gray,1)\n",
    "    \n",
    "    for face in faces:\n",
    "        l = face.left()\n",
    "        t = face.top()\n",
    "        r = face.right()\n",
    "        b = face.bottom()\n",
    "#         cv2.rectangle(frame,pt1 = (l,t),pt2 = (r,b),color = [0,0,255],thickness = 2)\n",
    "        cv2.circle(frame,center = (l + (r - l)//2,t + (b - t)//2),radius = (r - l)//2,color = [0,0,255],thickness = 2)\n",
    "        \n",
    "#     用户键盘上输入，可以退出\n",
    "    if ord('q') == cv2.waitKey(1):\n",
    "        break\n",
    "    \n",
    "    cv2.imshow('Titanic',frame)\n",
    "cv2.destroyAllWindows()\n",
    "cap.release()"
   ]
  }
 ],
 "metadata": {
  "kernelspec": {
   "display_name": "Python 3",
   "language": "python",
   "name": "python3"
  },
  "language_info": {
   "codemirror_mode": {
    "name": "ipython",
    "version": 3
   },
   "file_extension": ".py",
   "mimetype": "text/x-python",
   "name": "python",
   "nbconvert_exporter": "python",
   "pygments_lexer": "ipython3",
   "version": "3.6.8"
  }
 },
 "nbformat": 4,
 "nbformat_minor": 2
}
